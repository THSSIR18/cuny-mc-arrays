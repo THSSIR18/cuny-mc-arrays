{
  "nbformat": 4,
  "nbformat_minor": 0,
  "metadata": {
    "colab": {
      "name": "Arrays.ipynb",
      "provenance": [],
      "authorship_tag": "ABX9TyNUI6XPbimT3GmI8T+65gM3",
      "include_colab_link": true
    },
    "kernelspec": {
      "name": "python3",
      "display_name": "Python 3"
    }
  },
  "cells": [
    {
      "cell_type": "markdown",
      "metadata": {
        "id": "view-in-github",
        "colab_type": "text"
      },
      "source": [
        "<a href=\"https://colab.research.google.com/github/THSSIR18/cuny-mc-arrays/blob/main/Arrays.ipynb\" target=\"_parent\"><img src=\"https://colab.research.google.com/assets/colab-badge.svg\" alt=\"Open In Colab\"/></a>"
      ]
    },
    {
      "cell_type": "code",
      "metadata": {
        "colab": {
          "base_uri": "https://localhost:8080/"
        },
        "id": "wkmlhp9t5wMK",
        "outputId": "f42a0ceb-ff20-4ddc-c3bf-0d231a672780"
      },
      "source": [
        "import numpy as np \r\n",
        "np_city = np.array(['New York City', 'Los Angeles', 'Miami', 'Houston'])\r\n",
        "np_city"
      ],
      "execution_count": null,
      "outputs": [
        {
          "output_type": "execute_result",
          "data": {
            "text/plain": [
              "array(['New York City', 'Los Angeles', 'Miami', 'Houston'], dtype='<U13')"
            ]
          },
          "metadata": {
            "tags": []
          },
          "execution_count": 2
        }
      ]
    },
    {
      "cell_type": "code",
      "metadata": {
        "colab": {
          "base_uri": "https://localhost:8080/"
        },
        "id": "AFweaLcG6XSI",
        "outputId": "9ca75bf3-25cd-4704-933b-1633b6e2d408"
      },
      "source": [
        "np_city.ndim"
      ],
      "execution_count": null,
      "outputs": [
        {
          "output_type": "execute_result",
          "data": {
            "text/plain": [
              "1"
            ]
          },
          "metadata": {
            "tags": []
          },
          "execution_count": 3
        }
      ]
    },
    {
      "cell_type": "code",
      "metadata": {
        "colab": {
          "base_uri": "https://localhost:8080/"
        },
        "id": "FJiElI_q6i-l",
        "outputId": "f4da614e-6d51-4d97-bc05-12cf4be3faea"
      },
      "source": [
        "np_city_and_state = np.array([['New York City', 'Los Angeles', 'Miami', 'Houston'],\r\n",
        "                             ['New York', 'California', 'Florida', 'Texas']])\r\n",
        "np_city_and_state"
      ],
      "execution_count": null,
      "outputs": [
        {
          "output_type": "execute_result",
          "data": {
            "text/plain": [
              "array([['New York City', 'Los Angeles', 'Miami', 'Houston'],\n",
              "       ['New York', 'California', 'Florida', 'Texas']], dtype='<U13')"
            ]
          },
          "metadata": {
            "tags": []
          },
          "execution_count": 9
        }
      ]
    },
    {
      "cell_type": "code",
      "metadata": {
        "colab": {
          "base_uri": "https://localhost:8080/"
        },
        "id": "Ru0vjGq87TxZ",
        "outputId": "c5b8b7dd-8f9f-4f52-e15a-1aab2aa8989d"
      },
      "source": [
        "print('Dimension = ' + str(np_city.ndim))\r\n",
        "print('Shape = ' + str(np_city.shape))\r\n",
        "print('Size= ' + str(np_city.size))"
      ],
      "execution_count": null,
      "outputs": [
        {
          "output_type": "stream",
          "text": [
            "Dimension = 1\n",
            "Shape = (4,)\n",
            "Size= 4\n"
          ],
          "name": "stdout"
        }
      ]
    },
    {
      "cell_type": "code",
      "metadata": {
        "colab": {
          "base_uri": "https://localhost:8080/"
        },
        "id": "SgDUok1W8GqT",
        "outputId": "045d11c5-51be-455a-a374-1031a21b09cf"
      },
      "source": [
        "print('Dimension = ' + str(np_city_and_state.ndim))\r\n",
        "print('Shape = ' + str(np_city_and_state.shape))\r\n",
        "print('Size= ' + str(np_city_and_state.size))"
      ],
      "execution_count": null,
      "outputs": [
        {
          "output_type": "stream",
          "text": [
            "Dimension = 2\n",
            "Shape = (2, 4)\n",
            "Size= 8\n"
          ],
          "name": "stdout"
        }
      ]
    },
    {
      "cell_type": "code",
      "metadata": {
        "colab": {
          "base_uri": "https://localhost:8080/"
        },
        "id": "y0WcsK_l8nvY",
        "outputId": "35300657-4cd4-4491-97e7-d4de00aff71f"
      },
      "source": [
        "first_trial_cyclist = [10, 15,17,26]\r\n",
        "second_trial_cyclist = [12,11,21,24]\r\n",
        "np_first = np.array(first_trial_cyclist)\r\n",
        "np_second = np.array(second_trial_cyclist)\r\n",
        "print(np_first)\r\n",
        "print(np_second)\r\n",
        "total = np_first + np_second\r\n",
        "print(total)"
      ],
      "execution_count": null,
      "outputs": [
        {
          "output_type": "stream",
          "text": [
            "[10 15 17 26]\n",
            "[12 11 21 24]\n",
            "[22 26 38 50]\n"
          ],
          "name": "stdout"
        }
      ]
    },
    {
      "cell_type": "code",
      "metadata": {
        "colab": {
          "base_uri": "https://localhost:8080/"
        },
        "id": "v9aWsieN-GBA",
        "outputId": "6f0e8d43-802a-4bb4-fb17-34e02554eb3d"
      },
      "source": [
        "cyclist_trials = np.array ([[10, 15,17,26],[12,11,21,24]])\r\n",
        "first_trial = cyclist_trials[0]\r\n",
        "first_trial\r\n",
        "\r\n"
      ],
      "execution_count": null,
      "outputs": [
        {
          "output_type": "execute_result",
          "data": {
            "text/plain": [
              "array([10, 15, 17, 26])"
            ]
          },
          "metadata": {
            "tags": []
          },
          "execution_count": 18
        }
      ]
    },
    {
      "cell_type": "code",
      "metadata": {
        "colab": {
          "base_uri": "https://localhost:8080/"
        },
        "id": "Wi8GP6HJ-wft",
        "outputId": "cadc6fec-49a5-4197-f890-ea5ce26333ae"
      },
      "source": [
        "second_trial = cyclist_trials[1]\r\n",
        "second_trial[0]\r\n",
        "\r\n",
        "\r\n"
      ],
      "execution_count": null,
      "outputs": [
        {
          "output_type": "execute_result",
          "data": {
            "text/plain": [
              "12"
            ]
          },
          "metadata": {
            "tags": []
          },
          "execution_count": 19
        }
      ]
    },
    {
      "cell_type": "code",
      "metadata": {
        "colab": {
          "base_uri": "https://localhost:8080/"
        },
        "id": "-fhpUfyg_N_S",
        "outputId": "854d8d3b-333d-4c82-b218-8d38e235bbb6"
      },
      "source": [
        "print(cyclist_trials)\r\n",
        "print(cyclist_trials[1][2])"
      ],
      "execution_count": null,
      "outputs": [
        {
          "output_type": "stream",
          "text": [
            "[[10 15 17 26]\n",
            " [12 11 21 24]]\n",
            "21\n"
          ],
          "name": "stdout"
        }
      ]
    },
    {
      "cell_type": "code",
      "metadata": {
        "colab": {
          "base_uri": "https://localhost:8080/"
        },
        "id": "XNVaiEKM_U4G",
        "outputId": "4df7d054-d6a9-4850-da17-12ea4880190d"
      },
      "source": [
        "test_scores = np.array([[83,71,57,63],[54,68,81,45]])\r\n",
        "passing_scores = test_scores > 60\r\n",
        "passing_scores[1][2]\r\n",
        "print(passing_scores)\r\n",
        "print(test_scores[passing_scores])"
      ],
      "execution_count": null,
      "outputs": [
        {
          "output_type": "stream",
          "text": [
            "[[ True  True False  True]\n",
            " [False  True  True False]]\n",
            "[83 71 63 68 81]\n"
          ],
          "name": "stdout"
        }
      ]
    },
    {
      "cell_type": "code",
      "metadata": {
        "colab": {
          "base_uri": "https://localhost:8080/"
        },
        "id": "39H8gp_OBfpg",
        "outputId": "5788626a-6331-4513-c8a6-b45d548766d8"
      },
      "source": [
        "boroughs_in_nyc = np.array(['Manhattan','Bronx','Brooklyn','Staten Island','Queens'])\r\n",
        "print(boroughs_in_nyc)\r\n",
        "boroughs_view = boroughs_in_nyc.view()\r\n",
        "boroughs_view[3] = 'Central Park'\r\n",
        "print(boroughs_view)\r\n",
        "print(boroughs_in_nyc)"
      ],
      "execution_count": null,
      "outputs": [
        {
          "output_type": "stream",
          "text": [
            "['Manhattan' 'Bronx' 'Brooklyn' 'Staten Island' 'Queens']\n",
            "['Manhattan' 'Bronx' 'Brooklyn' 'Central Park' 'Queens']\n",
            "['Manhattan' 'Bronx' 'Brooklyn' 'Central Park' 'Queens']\n"
          ],
          "name": "stdout"
        }
      ]
    },
    {
      "cell_type": "code",
      "metadata": {
        "colab": {
          "base_uri": "https://localhost:8080/"
        },
        "id": "JtukHvyEC9RH",
        "outputId": "eeb41485-356a-42a0-d401-8c2ffcfc985d"
      },
      "source": [
        "boroughs_in_nyc = np.array(['Manhattan','Bronx','Brooklyn','Staten Island','Queens'])\r\n",
        "boroughs_copy = boroughs_in_nyc.copy()\r\n",
        "print(boroughs_copy)\r\n",
        "print(boroughs_copy)"
      ],
      "execution_count": null,
      "outputs": [
        {
          "output_type": "stream",
          "text": [
            "['Manhattan' 'Bronx' 'Brooklyn' 'Staten Island' 'Queens']\n",
            "['Manhattan' 'Bronx' 'Brooklyn' 'Staten Island' 'Queens']\n"
          ],
          "name": "stdout"
        }
      ]
    },
    {
      "cell_type": "code",
      "metadata": {
        "colab": {
          "base_uri": "https://localhost:8080/"
        },
        "id": "rrAp3rtLErAA",
        "outputId": "4acec897-fac8-4c8c-a1eb-5d5d5e01eee6"
      },
      "source": [
        "np_sqrt = np.sqrt([4,9,16,25])\r\n",
        "np_sqrt"
      ],
      "execution_count": null,
      "outputs": [
        {
          "output_type": "execute_result",
          "data": {
            "text/plain": [
              "array([2., 3., 4., 5.])"
            ]
          },
          "metadata": {
            "tags": []
          },
          "execution_count": 31
        }
      ]
    },
    {
      "cell_type": "code",
      "metadata": {
        "colab": {
          "base_uri": "https://localhost:8080/"
        },
        "id": "P9Qp6ybVE_dG",
        "outputId": "46f198d0-c39d-4317-89ec-1c662dd620fe"
      },
      "source": [
        "from numpy import pi \r\n",
        "pi\r\n",
        "np.cos(pi)"
      ],
      "execution_count": null,
      "outputs": [
        {
          "output_type": "execute_result",
          "data": {
            "text/plain": [
              "-1.0"
            ]
          },
          "metadata": {
            "tags": []
          },
          "execution_count": 33
        }
      ]
    },
    {
      "cell_type": "code",
      "metadata": {
        "colab": {
          "base_uri": "https://localhost:8080/"
        },
        "id": "6NZgCvhMFM3C",
        "outputId": "9fc6e462-fc30-445d-ae09-2df237e71e61"
      },
      "source": [
        "# floor returns largest integer of any value in the array\r\n",
        "np.floor([1,5,2.6,7.8,-3,-2.3])"
      ],
      "execution_count": null,
      "outputs": [
        {
          "output_type": "execute_result",
          "data": {
            "text/plain": [
              "array([ 1.,  5.,  2.,  7., -3., -3.])"
            ]
          },
          "metadata": {
            "tags": []
          },
          "execution_count": 34
        }
      ]
    },
    {
      "cell_type": "code",
      "metadata": {
        "colab": {
          "base_uri": "https://localhost:8080/"
        },
        "id": "cmkIpXYIFmZN",
        "outputId": "645ee1ba-4bce-4a89-be79-93509959aeec"
      },
      "source": [
        "# Exponential funtion \r\n",
        "ar = np.array([1,2,3])\r\n",
        "ar=np.exp(ar)\r\n",
        "print(ar)                                                                                                                                                                                                                                                                                                               "
      ],
      "execution_count": null,
      "outputs": [
        {
          "output_type": "stream",
          "text": [
            "[ 2.71828183  7.3890561  20.08553692]\n"
          ],
          "name": "stdout"
        }
      ]
    },
    {
      "cell_type": "code",
      "metadata": {
        "colab": {
          "base_uri": "https://localhost:8080/"
        },
        "id": "fTxfOWQXGt7v",
        "outputId": "0acf2699-0dfc-4d17-ae03-e75aee07d86a"
      },
      "source": [
        "a = np.array([1,2,3,4])\r\n",
        "b = np.array([10,20,30,40])\r\n",
        "c = a + b\r\n",
        "print(c)"
      ],
      "execution_count": null,
      "outputs": [
        {
          "output_type": "stream",
          "text": [
            "[11 22 33 44]\n"
          ],
          "name": "stdout"
        }
      ]
    },
    {
      "cell_type": "code",
      "metadata": {
        "colab": {
          "base_uri": "https://localhost:8080/"
        },
        "id": "kwJqdDhwGuiE",
        "outputId": "d4df964c-1dc6-4720-9527-c1cf4292a229"
      },
      "source": [
        "a = np.array([[0,0,0],[10,10,10],[20,20,20],[30,30,30]])\r\n",
        "b=np.array([1,2,3])\r\n",
        "\r\n",
        "print('First array:')\r\n",
        "print(b)\r\n",
        "print('\\n')\r\n",
        "\r\n",
        "print('Second array:')\r\n",
        "print(a)\r\n",
        "print('\\n')\r\n",
        "\r\n",
        "print('First array + Second array')\r\n",
        "c=a+b\r\n",
        "print(c)\r\n",
        "\r\n"
      ],
      "execution_count": null,
      "outputs": [
        {
          "output_type": "stream",
          "text": [
            "First array:\n",
            "[1 2 3]\n",
            "\n",
            "\n",
            "Second array:\n",
            "[[ 0  0  0]\n",
            " [10 10 10]\n",
            " [20 20 20]\n",
            " [30 30 30]]\n",
            "\n",
            "\n",
            "First array + Second array\n",
            "[[ 1  2  3]\n",
            " [11 12 13]\n",
            " [21 22 23]\n",
            " [31 32 33]]\n"
          ],
          "name": "stdout"
        }
      ]
    },
    {
      "cell_type": "code",
      "metadata": {
        "colab": {
          "base_uri": "https://localhost:8080/"
        },
        "id": "mPuqklFlGulH",
        "outputId": "bb99a50f-a946-49fe-9d61-a1594cf7aeb6"
      },
      "source": [
        "#transpose\r\n",
        "test_scores = np.array([[83,71,57,63],[54,69,81,45]])\r\n",
        "test_scores"
      ],
      "execution_count": null,
      "outputs": [
        {
          "output_type": "execute_result",
          "data": {
            "text/plain": [
              "array([[83, 71, 57, 63],\n",
              "       [54, 69, 81, 45]])"
            ]
          },
          "metadata": {
            "tags": []
          },
          "execution_count": 40
        }
      ]
    },
    {
      "cell_type": "code",
      "metadata": {
        "colab": {
          "base_uri": "https://localhost:8080/"
        },
        "id": "_e3ukTR_Gunq",
        "outputId": "e5841ff2-2b5b-4e7b-f47a-8954a59ec98e"
      },
      "source": [
        "x=np.array([[1,2],[3,4]])\r\n",
        "y=np.linalg.inv(x)\r\n",
        "print(x)\r\n",
        "print(y)"
      ],
      "execution_count": null,
      "outputs": [
        {
          "output_type": "stream",
          "text": [
            "[[1 2]\n",
            " [3 4]]\n",
            "[[-2.   1. ]\n",
            " [ 1.5 -0.5]]\n"
          ],
          "name": "stdout"
        }
      ]
    },
    {
      "cell_type": "code",
      "metadata": {
        "colab": {
          "base_uri": "https://localhost:8080/"
        },
        "id": "H0v3QbmnMLu4",
        "outputId": "89e93a8a-f16b-4404-890d-0314ab2b6c64"
      },
      "source": [
        "trace_array=np.array([[1,4],[3,7]])\r\n",
        "np.trace(trace_array)"
      ],
      "execution_count": null,
      "outputs": [
        {
          "output_type": "execute_result",
          "data": {
            "text/plain": [
              "8"
            ]
          },
          "metadata": {
            "tags": []
          },
          "execution_count": 44
        }
      ]
    }
  ]
}